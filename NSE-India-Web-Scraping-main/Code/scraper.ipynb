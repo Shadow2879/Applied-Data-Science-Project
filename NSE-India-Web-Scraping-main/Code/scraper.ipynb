{
 "cells": [
  {
   "cell_type": "code",
   "execution_count": 6,
   "metadata": {},
   "outputs": [],
   "source": [
    "from individual_company_stock import getHistoryData\n",
    "import pandas as pd\n",
    "import numpy as np\n",
    "from datetime import date,timedelta\n",
    "from IPython.display import clear_output"
   ]
  },
  {
   "cell_type": "code",
   "execution_count": 10,
   "metadata": {},
   "outputs": [],
   "source": [
    "symbols_read_path=\"D:\\\\MW-NIFTY-50-symbols.csv\"#path fo file with stock symbols to get data for\n",
    "data_write_dir=\"D:\\\\output\\\\\"#path of dir to write .csv files into\n",
    "annot=\"\"#Additional info to be added to file name(optional)"
   ]
  },
  {
   "cell_type": "code",
   "execution_count": null,
   "metadata": {},
   "outputs": [],
   "source": [
    "cdate=date.today()\n",
    "cdate"
   ]
  },
  {
   "cell_type": "code",
   "execution_count": null,
   "metadata": {},
   "outputs": [],
   "source": [
    "stocks=pd.read_csv(symbols_read_path)\n",
    "print(\"Number of stocks:\"+str(stocks[\"SYMBOL\"].size))"
   ]
  },
  {
   "cell_type": "code",
   "execution_count": null,
   "metadata": {},
   "outputs": [],
   "source": [
    "stocks[\"SYMBOL\"]"
   ]
  },
  {
   "cell_type": "code",
   "execution_count": 13,
   "metadata": {},
   "outputs": [],
   "source": [
    "def strdate(cdate,ydiff=0,mdiff=0,day_range=False,daydiff=0):\n",
    "    '''returns datetime in string with the option to get a different date'''\n",
    "    if(day_range):\n",
    "        return(cdate-timedelta(days=daydiff).strftime(\"%d-%m-%Y\"))\n",
    "    else:\n",
    "        return cdate.replace(year=cdate.year-ydiff,month=cdate.month-mdiff).strftime(\"%d-%m-%Y\")\n",
    "def get_his(stock,startdate,enddate):\n",
    "    '''retrives historical data of a stock for a given time frame'''\n",
    "    temp=getHistoryData(stock,from_date=startdate,to_date=enddate)\n",
    "    print(temp)\n",
    "    return temp\n",
    "    # ref: getHistoryData('SHREECEM',from_date='30-04-2020',to_date='30-04-2021')"
   ]
  },
  {
   "cell_type": "code",
   "execution_count": null,
   "metadata": {},
   "outputs": [],
   "source": [
    "hist=int(input(\"time(Natural Number) (in years)\"))\n",
    "dat_err=[]\n",
    "for i in range(0,stocks[\"SYMBOL\"].size):\n",
    "    df=pd.DataFrame()\n",
    "    for j in range(0,hist):\n",
    "        t=get_his(stocks[\"SYMBOL\"][i],strdate(cdate,1+j),strdate(cdate,0+j))\n",
    "        print(\"Recieved data\\n\\n\")\n",
    "        print(pd.DataFrame(t),flush=True)\n",
    "        if t.empty:\n",
    "            break\n",
    "        else:\n",
    "            clear_output(wait=True)\n",
    "            df=pd.concat([df,t])\n",
    "    if df.empty:\n",
    "        dat_err.append(i)\n",
    "    df=df.reset_index(drop=True)\n",
    "    df=df.replace({',':''},regex=True)\n",
    "    print(\"\\n\\nAggregated Data\\n\\n\")\n",
    "    print(df)\n",
    "    df.to_csv(path_or_buf=data_write_dir+annot+stocks[\"SYMBOL\"][i]+\".csv\")"
   ]
  },
  {
   "cell_type": "code",
   "execution_count": null,
   "metadata": {},
   "outputs": [],
   "source": [
    "if len(dat_err)!=0:\n",
    "    print(\"There was an error in retriving data for these stocks:\")\n",
    "    print(pd.DataFrame(stocks[\"SYMBOL\"][dat_err],index=dat_err))\n",
    "else:\n",
    "    print(\"Program completed execution succsessfully!\")"
   ]
  },
  {
   "cell_type": "code",
   "execution_count": 51,
   "metadata": {},
   "outputs": [],
   "source": [
    "cust_symbol=[]# Example: \"M%26M\""
   ]
  },
  {
   "attachments": {},
   "cell_type": "markdown",
   "metadata": {},
   "source": [
    "> NOTE: For stocks symbols containing non-alphanumeric text (Eg: M&M), perform the following:\n",
    " 1. open NSE website\n",
    " 2. find the stock bieng looked for\n",
    " 3. copy what comes after \"symbol=\" in the URL into cust (Eg:M%26M)\n",
    " 4. Repeat for all failed symbols \n",
    " 5. Run the code below"
   ]
  },
  {
   "cell_type": "code",
   "execution_count": null,
   "metadata": {},
   "outputs": [],
   "source": [
    "for i in range(0,len(cust_symbol)):\n",
    "    df=pd.DataFrame()\n",
    "    for j in range(0,hist):\n",
    "        t=get_his(cust_symbol[i],strdate(cdate,1+j),strdate(cdate,0+j))\n",
    "        print(\"Recieved data\\n\\n\")\n",
    "        print(pd.DataFrame(t),flush=True)\n",
    "        if t.empty:\n",
    "            break\n",
    "        else:\n",
    "            clear_output(wait=True)\n",
    "            df=pd.concat([df,t])\n",
    "    if df.empty:\n",
    "        dat_err.append(i)\n",
    "    df=df.reset_index(drop=True)\n",
    "    df=df.replace({',':''},regex=True)\n",
    "    print(\"\\n\\nAggregated Data\\n\\n\")\n",
    "    print(df)\n",
    "    df.to_csv(path_or_buf=data_write_dir+annot+stocks[\"SYMBOL\"][dat_err[i]]+\".csv\")"
   ]
  }
 ],
 "metadata": {
  "kernelspec": {
   "display_name": "Python 3",
   "language": "python",
   "name": "python3"
  },
  "language_info": {
   "codemirror_mode": {
    "name": "ipython",
    "version": 3
   },
   "file_extension": ".py",
   "mimetype": "text/x-python",
   "name": "python",
   "nbconvert_exporter": "python",
   "pygments_lexer": "ipython3",
   "version": "3.10.5"
  },
  "orig_nbformat": 4
 },
 "nbformat": 4,
 "nbformat_minor": 2
}
