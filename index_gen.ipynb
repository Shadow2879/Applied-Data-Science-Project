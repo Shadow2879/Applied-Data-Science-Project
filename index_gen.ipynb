{
 "cells": [
  {
   "cell_type": "code",
   "execution_count": 1,
   "metadata": {},
   "outputs": [],
   "source": [
    "import pandas as pd\n",
    "import numpy as np"
   ]
  },
  {
   "cell_type": "code",
   "execution_count": 2,
   "metadata": {},
   "outputs": [],
   "source": [
    "df=pd.read_csv(\"./MW-NIFTY-50-symbols.csv\")"
   ]
  },
  {
   "cell_type": "code",
   "execution_count": 5,
   "metadata": {},
   "outputs": [
    {
     "name": "stdout",
     "output_type": "stream",
     "text": [
      "<option value=\"TATAMOTORS\">TATAMOTORS</option>\n",
      "<option value=\"HCLTECH\">HCLTECH</option>\n",
      "<option value=\"POWERGRID\">POWERGRID</option>\n",
      "<option value=\"HDFCLIFE\">HDFCLIFE</option>\n",
      "<option value=\"EICHERMOT\">EICHERMOT</option>\n",
      "<option value=\"BAJAJ-AUTO\">BAJAJ-AUTO</option>\n",
      "<option value=\"TECHM\">TECHM</option>\n",
      "<option value=\"NTPC\">NTPC</option>\n",
      "<option value=\"SBILIFE\">SBILIFE</option>\n",
      "<option value=\"AXISBANK\">AXISBANK</option>\n",
      "<option value=\"LT\">LT</option>\n",
      "<option value=\"KOTAKBANK\">KOTAKBANK</option>\n",
      "<option value=\"BRITANNIA\">BRITANNIA</option>\n",
      "<option value=\"INFY\">INFY</option>\n",
      "<option value=\"WIPRO\">WIPRO</option>\n",
      "<option value=\"HEROMOTOCO\">HEROMOTOCO</option>\n",
      "<option value=\"NESTLEIND\">NESTLEIND</option>\n",
      "<option value=\"ADANIENT\">ADANIENT</option>\n",
      "<option value=\"HINDALCO\">HINDALCO</option>\n",
      "<option value=\"TCS\">TCS</option>\n",
      "<option value=\"ICICIBANK\">ICICIBANK</option>\n",
      "<option value=\"DRREDDY\">DRREDDY</option>\n",
      "<option value=\"BHARTIARTL\">BHARTIARTL</option>\n",
      "<option value=\"RELIANCE\">RELIANCE</option>\n",
      "<option value=\"JSWSTEEL\">JSWSTEEL</option>\n",
      "<option value=\"GRASIM\">GRASIM</option>\n",
      "<option value=\"ADANIPORTS\">ADANIPORTS</option>\n",
      "<option value=\"TATASTEEL\">TATASTEEL</option>\n",
      "<option value=\"HDFCBANK\">HDFCBANK</option>\n",
      "<option value=\"TATACONSUM\">TATACONSUM</option>\n",
      "<option value=\"APOLLOHOSP\">APOLLOHOSP</option>\n",
      "<option value=\"HDFC\">HDFC</option>\n",
      "<option value=\"COALINDIA\">COALINDIA</option>\n",
      "<option value=\"ASIANPAINT\">ASIANPAINT</option>\n",
      "<option value=\"TITAN\">TITAN</option>\n",
      "<option value=\"CIPLA\">CIPLA</option>\n",
      "<option value=\"ITC\">ITC</option>\n",
      "<option value=\"MARUTI\">MARUTI</option>\n",
      "<option value=\"SBIN\">SBIN</option>\n",
      "<option value=\"UPL\">UPL</option>\n",
      "<option value=\"HINDUNILVR\">HINDUNILVR</option>\n",
      "<option value=\"ULTRACEMCO\">ULTRACEMCO</option>\n",
      "<option value=\"ONGC\">ONGC</option>\n",
      "<option value=\"INDUSINDBK\">INDUSINDBK</option>\n",
      "<option value=\"DIVISLAB\">DIVISLAB</option>\n",
      "<option value=\"BPCL\">BPCL</option>\n",
      "<option value=\"M&M\">M&M</option>\n",
      "<option value=\"SUNPHARMA\">SUNPHARMA</option>\n",
      "<option value=\"BAJAJFINSV\">BAJAJFINSV</option>\n",
      "<option value=\"BAJFINANCE\">BAJFINANCE</option>\n"
     ]
    }
   ],
   "source": [
    "for i in range(df.size):\n",
    "    print('<option value=\"'+str(df[\"SYMBOL\"][i])+'\">'+str(df[\"SYMBOL\"][i])+'</option>')"
   ]
  }
 ],
 "metadata": {
  "kernelspec": {
   "display_name": ".venv",
   "language": "python",
   "name": "python3"
  },
  "language_info": {
   "codemirror_mode": {
    "name": "ipython",
    "version": 3
   },
   "file_extension": ".py",
   "mimetype": "text/x-python",
   "name": "python",
   "nbconvert_exporter": "python",
   "pygments_lexer": "ipython3",
   "version": "3.10.5"
  },
  "orig_nbformat": 4
 },
 "nbformat": 4,
 "nbformat_minor": 2
}
